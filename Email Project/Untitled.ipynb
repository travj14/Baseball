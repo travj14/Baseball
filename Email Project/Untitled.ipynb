{
 "cells": [
  {
   "cell_type": "code",
   "execution_count": null,
   "id": "e2f05cee",
   "metadata": {},
   "outputs": [
    {
     "ename": "ImportError",
     "evalue": "cannot import name 'async_playwright' from 'playwright.sync_api' (/Users/travisjohnson/Library/Python/3.9/lib/python/site-packages/playwright/sync_api/__init__.py)",
     "output_type": "error",
     "traceback": [
      "\u001b[0;31m---------------------------------------------------------------------------\u001b[0m",
      "\u001b[0;31mImportError\u001b[0m                               Traceback (most recent call last)",
      "Cell \u001b[0;32mIn[4], line 2\u001b[0m\n\u001b[1;32m      1\u001b[0m \u001b[38;5;28;01mimport\u001b[39;00m\u001b[38;5;250m \u001b[39m\u001b[38;5;21;01masyncio\u001b[39;00m\n\u001b[0;32m----> 2\u001b[0m \u001b[38;5;28;01mfrom\u001b[39;00m\u001b[38;5;250m \u001b[39m\u001b[38;5;21;01mplaywright\u001b[39;00m\u001b[38;5;21;01m.\u001b[39;00m\u001b[38;5;21;01msync_api\u001b[39;00m\u001b[38;5;250m \u001b[39m\u001b[38;5;28;01mimport\u001b[39;00m async_playwright\n\u001b[1;32m      3\u001b[0m \u001b[38;5;28;01mimport\u001b[39;00m\u001b[38;5;250m \u001b[39m\u001b[38;5;21;01mrequests\u001b[39;00m\n\u001b[1;32m      4\u001b[0m \u001b[38;5;28;01mfrom\u001b[39;00m\u001b[38;5;250m \u001b[39m\u001b[38;5;21;01mbs4\u001b[39;00m\u001b[38;5;250m \u001b[39m\u001b[38;5;28;01mimport\u001b[39;00m BeautifulSoup\n",
      "\u001b[0;31mImportError\u001b[0m: cannot import name 'async_playwright' from 'playwright.sync_api' (/Users/travisjohnson/Library/Python/3.9/lib/python/site-packages/playwright/sync_api/__init__.py)"
     ]
    }
   ],
   "source": [
    "import asyncio\n",
    "from playwright.async_api import async_playwright\n",
    "import requests\n",
    "from bs4 import BeautifulSoup\n",
    "import re\n",
    "import time\n",
    "import pandas as pd\n",
    "\n",
    "async def run():\n",
    "    async with sync_playwright() as p:\n",
    "        browser = await p.chromium.launch()\n",
    "        page = await browser.new_page()\n",
    "        await page.goto(\"https://baseballsavant.mlb.com/gamefeed?date=2025-06-03&chartType=pitch&legendType=pitchName&playerType=pitcher&inning=&count=&pitchHand=&batSide=&descFilter=&ptFilter=&resultFilter=&hf=exitVelocity&sportId=1\")\n",
    "\n",
    "        # page.wait_for_selector(\"tr[id^='exitVelocityTable_']\", timeout=10000)\n",
    "        time.sleep(10)\n",
    "\n",
    "        content = await page.content()\n",
    "        \n",
    "        soup = BeautifulSoup(content, \"html.parser\")\n",
    "\n",
    "        #tables = soup.find_all(class_=\"table-savant\")\n",
    "\n",
    "        metas = soup.find_all(\"tr\", id=re.compile(\"exitVelocityTable\"))\n",
    "\n",
    "        exit_velo = []\n",
    "\n",
    "        for row in metas:\n",
    "            cells = row.find_all([\"td\", \"th\"])  # include both headers and data cells\n",
    "            values = [cell.get_text(strip=True) for cell in cells]\n",
    "            exit_velo.append(values)\n",
    "        \n",
    "        columns = soup.find_all(\"tr\", class_=\"tr-component-row\")\n",
    "\n",
    "        row = columns[-1]\n",
    "        cells = row.find_all([\"td\", \"th\"])\n",
    "        ev_header = [cell.get_text(strip=True) for cell in cells]\n",
    "\n",
    "        # for elem in ev_elements:\n",
    "            # print(elem.name, elem['id'], \"-\", elem.get_text(strip=True))\n",
    "\n",
    "        # print(ev_elements)\n",
    "\n",
    "        await page.goto(\"https://baseballsavant.mlb.com/gamefeed?date=2025-06-03&chartType=pitch&legendType=pitchName&playerType=pitcher&inning=&count=&pitchHand=&batSide=&descFilter=&ptFilter=&resultFilter=&hf=pitchVelocity&sportId=1\")\n",
    "\n",
    "        time.sleep(10)\n",
    "\n",
    "        content = await page.content()\n",
    "\n",
    "        soup = BeautifulSoup(content, \"html.parser\")\n",
    "\n",
    "        metas = soup.find_all(\"tr\", id=re.compile(\"pitchVelocityTable\"))\n",
    "\n",
    "        pitch_velo = []\n",
    "        \n",
    "        for row in metas:\n",
    "            cells = row.find_all([\"td\", \"th\"])\n",
    "            values = [cell.get_text(strip=True) for cell in cells]\n",
    "            pitch_velo.append(values)\n",
    "\n",
    "        columns = soup.find_all(\"tr\", class_=\"tr-component-row\")\n",
    "\n",
    "        row = columns[-1]\n",
    "        cells = row.find_all([\"td\", \"th\"])\n",
    "        pitch_header = [cell.get_text(strip=True) for cell in cells]\n",
    "\n",
    "        await browser.close()"
   ]
  },
  {
   "cell_type": "code",
   "execution_count": null,
   "id": "f44d9ecc",
   "metadata": {},
   "outputs": [],
   "source": []
  }
 ],
 "metadata": {
  "kernelspec": {
   "display_name": "Python 3",
   "language": "python",
   "name": "python3"
  },
  "language_info": {
   "codemirror_mode": {
    "name": "ipython",
    "version": 3
   },
   "file_extension": ".py",
   "mimetype": "text/x-python",
   "name": "python",
   "nbconvert_exporter": "python",
   "pygments_lexer": "ipython3",
   "version": "3.9.6"
  }
 },
 "nbformat": 4,
 "nbformat_minor": 5
}
